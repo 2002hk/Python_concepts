{
  "nbformat": 4,
  "nbformat_minor": 0,
  "metadata": {
    "colab": {
      "provenance": [],
      "authorship_tag": "ABX9TyMI68tn1tVTg5BhA939E0i8",
      "include_colab_link": true
    },
    "kernelspec": {
      "name": "python3",
      "display_name": "Python 3"
    },
    "language_info": {
      "name": "python"
    }
  },
  "cells": [
    {
      "cell_type": "markdown",
      "metadata": {
        "id": "view-in-github",
        "colab_type": "text"
      },
      "source": [
        "<a href=\"https://colab.research.google.com/github/2002hk/Python_concepts/blob/main/100_Python_Practice_Problem.ipynb\" target=\"_parent\"><img src=\"https://colab.research.google.com/assets/colab-badge.svg\" alt=\"Open In Colab\"/></a>"
      ]
    },
    {
      "cell_type": "code",
      "execution_count": 1,
      "metadata": {
        "id": "6QX4fHQ6LP4t"
      },
      "outputs": [],
      "source": [
        "import pandas as pd\n",
        "import numpy as np"
      ]
    },
    {
      "cell_type": "markdown",
      "source": [
        "Q1.User will input (3ages).Find the oldest one\n"
      ],
      "metadata": {
        "id": "6UJ_OPRSLdyR"
      }
    },
    {
      "cell_type": "code",
      "source": [
        "L = []\n",
        "n = int(input('Number of elements? '))\n",
        "\n",
        "# Input elements into the list\n",
        "for i in range(n):\n",
        "    ele = int(input())\n",
        "    L.append(ele)\n",
        "\n",
        "L.sort(reverse=True)\n",
        "print(L[0])\n"
      ],
      "metadata": {
        "id": "OXSEmgmALlT2",
        "colab": {
          "base_uri": "https://localhost:8080/"
        },
        "outputId": "2fab7958-8497-4882-9379-7c9301c2dd48"
      },
      "execution_count": 9,
      "outputs": [
        {
          "output_type": "stream",
          "name": "stdout",
          "text": [
            "Number of elements? 3\n",
            "6\n",
            "3\n",
            "8\n",
            "8\n"
          ]
        }
      ]
    },
    {
      "cell_type": "markdown",
      "source": [
        "  Q2.Write a program that will convert celsius value to fahrenheit\n"
      ],
      "metadata": {
        "id": "nXkN8bNsLzVj"
      }
    },
    {
      "cell_type": "code",
      "source": [
        "a=int(input(\"Enter the number to convert into fahrenheit\"))\n",
        "f=(a*9/5)+32\n",
        "print(f)"
      ],
      "metadata": {
        "id": "PJED4scfL6Qe",
        "colab": {
          "base_uri": "https://localhost:8080/"
        },
        "outputId": "56cd73e7-64e8-4b47-c589-f93bf5d96748"
      },
      "execution_count": 10,
      "outputs": [
        {
          "output_type": "stream",
          "name": "stdout",
          "text": [
            "Enter the number to convert into fahrenheit0\n",
            "32.0\n"
          ]
        }
      ]
    },
    {
      "cell_type": "markdown",
      "source": [
        "Q3.User will input (2numbers).Write a program to swap the numbers"
      ],
      "metadata": {
        "id": "AMaA23SKL6y5"
      }
    },
    {
      "cell_type": "code",
      "source": [
        "a=int(input())\n",
        "b=int(input())\n",
        "c=b\n",
        "b=a\n",
        "a=c\n",
        "print(a,b)"
      ],
      "metadata": {
        "id": "a9p7100DL_u8",
        "colab": {
          "base_uri": "https://localhost:8080/"
        },
        "outputId": "2d1e4881-3885-4ff0-911e-7731bd56ecff"
      },
      "execution_count": 12,
      "outputs": [
        {
          "output_type": "stream",
          "name": "stdout",
          "text": [
            "6\n",
            "4\n",
            "4 6\n"
          ]
        }
      ]
    },
    {
      "cell_type": "markdown",
      "source": [
        "Q4.Write a program that will give you the sum of 3 digits\n"
      ],
      "metadata": {
        "id": "zBXW56gOMAbF"
      }
    },
    {
      "cell_type": "code",
      "source": [
        "a=input()\n",
        "if len(a)==3 and a.isdigit():\n",
        "  sum=int(a[0])+int(a[1])+int(a[2])\n",
        "  print(sum)\n"
      ],
      "metadata": {
        "id": "F8C-sgIGMEYj",
        "colab": {
          "base_uri": "https://localhost:8080/"
        },
        "outputId": "a7c3604f-f193-479b-c148-708e95192f03"
      },
      "execution_count": 13,
      "outputs": [
        {
          "output_type": "stream",
          "name": "stdout",
          "text": [
            "345\n",
            "12\n"
          ]
        }
      ]
    },
    {
      "cell_type": "markdown",
      "source": [
        "Q5.Write a program that will reverse a four digit number.Also it checks whether the reverse is true.\n"
      ],
      "metadata": {
        "id": "irmDTbhkMExQ"
      }
    },
    {
      "cell_type": "code",
      "source": [
        "a=input()\n",
        "rev=a[::-1]\n",
        "print(rev)\n",
        "if a==rev:\n",
        "  print('True')"
      ],
      "metadata": {
        "id": "RND0bGQkMIx9",
        "colab": {
          "base_uri": "https://localhost:8080/"
        },
        "outputId": "dd0fd4df-a014-440f-acbc-d0ac9d31c9a6"
      },
      "execution_count": 16,
      "outputs": [
        {
          "output_type": "stream",
          "name": "stdout",
          "text": [
            "1221\n",
            "1221\n",
            "True\n"
          ]
        }
      ]
    },
    {
      "cell_type": "markdown",
      "source": [
        "  Q6.Write a program that will tell whether the number entered by the user is odd or even.\n"
      ],
      "metadata": {
        "id": "GLqKOszKlrKN"
      }
    },
    {
      "cell_type": "code",
      "source": [
        "a=int(input())\n",
        "if a%2==0:\n",
        "  print('even')\n",
        "else:\n",
        "  print('odd')"
      ],
      "metadata": {
        "colab": {
          "base_uri": "https://localhost:8080/"
        },
        "id": "Mo3iEB1klkdG",
        "outputId": "16a19180-df02-497f-d068-a52a4598b413"
      },
      "execution_count": 17,
      "outputs": [
        {
          "output_type": "stream",
          "name": "stdout",
          "text": [
            "22\n",
            "even\n"
          ]
        }
      ]
    },
    {
      "cell_type": "markdown",
      "source": [
        "Q7.Write a program that will tell whether the given year is a leap year or not.\n"
      ],
      "metadata": {
        "id": "ZnojtZfclxpJ"
      }
    },
    {
      "cell_type": "code",
      "source": [
        "# Input a year from the user\n",
        "year = int(input(\"Enter a year: \"))\n",
        "\n",
        "# Check if the year is a leap year\n",
        "if (year % 4 == 0 and year % 100 != 0) or (year % 400 == 0):\n",
        "    print(f\"{year} is a leap year.\")\n",
        "else:\n",
        "    print(f\"{year} is not a leap year.\")\n"
      ],
      "metadata": {
        "colab": {
          "base_uri": "https://localhost:8080/"
        },
        "id": "Iu_FKLfil2Gk",
        "outputId": "8f339965-83d9-4d08-fdbd-1b8e729aca47"
      },
      "execution_count": 18,
      "outputs": [
        {
          "output_type": "stream",
          "name": "stdout",
          "text": [
            "Enter a year: 2002\n",
            "2002 is not a leap year.\n"
          ]
        }
      ]
    },
    {
      "cell_type": "markdown",
      "source": [
        "Q8.Write a program to find the euclidean distance between two coordinates."
      ],
      "metadata": {
        "id": "yI_hg_sgl2az"
      }
    },
    {
      "cell_type": "code",
      "source": [
        "import math\n",
        "x1=int(input())\n",
        "y1=int(input())\n",
        "x2=int(input())\n",
        "y2=int(input())\n",
        "d=math.sqrt((x2-x1)**2+(y2-y1)**2)\n",
        "print(d)"
      ],
      "metadata": {
        "colab": {
          "base_uri": "https://localhost:8080/"
        },
        "id": "9IzdFuTLl6pr",
        "outputId": "5481603f-c94b-41d2-a093-3d498cbbfa35"
      },
      "execution_count": 22,
      "outputs": [
        {
          "output_type": "stream",
          "name": "stdout",
          "text": [
            "8\n",
            "5\n",
            "8\n",
            "9\n",
            "4.0\n"
          ]
        }
      ]
    },
    {
      "cell_type": "markdown",
      "source": [
        "Q9.Write a program that take a user inputr of three angles and will find out whether it can form a triangle or not.\n"
      ],
      "metadata": {
        "id": "RnSxHtOMl65y"
      }
    },
    {
      "cell_type": "code",
      "source": [
        "a=int(input())\n",
        "b=int(input())\n",
        "c=int(input())\n",
        "if a+b+c==180:\n",
        "  print('Can form a traingle')\n",
        "else:\n",
        "  print('Cannot form a triangle')"
      ],
      "metadata": {
        "colab": {
          "base_uri": "https://localhost:8080/"
        },
        "id": "qqnxrZRCmW1Q",
        "outputId": "7c357a7a-cb51-40ce-e94f-b676543e860c"
      },
      "execution_count": 24,
      "outputs": [
        {
          "output_type": "stream",
          "name": "stdout",
          "text": [
            "60\n",
            "90\n",
            "30\n",
            "Can form a traingle\n"
          ]
        }
      ]
    },
    {
      "cell_type": "markdown",
      "source": [
        "Q10.Write a program that will take user input of cost price and selling price and determines whether its a loss or a profit\n"
      ],
      "metadata": {
        "id": "-1L4mk2emXDZ"
      }
    },
    {
      "cell_type": "code",
      "source": [
        "cp=int(input())\n",
        "sp=int(input())\n",
        "if cp>sp:\n",
        "  l=cp-sp\n",
        "  print('It is a Loss of ',l)\n",
        "elif sp>cp:\n",
        "  p=sp-cp\n",
        "  print('It is a Profit of ',p)\n",
        "else:\n",
        "  print('No profit No loss')"
      ],
      "metadata": {
        "colab": {
          "base_uri": "https://localhost:8080/"
        },
        "id": "Tf0sUQKumemz",
        "outputId": "65d30dd3-4335-4834-9ac6-7a1f75bd2b6a"
      },
      "execution_count": 26,
      "outputs": [
        {
          "output_type": "stream",
          "name": "stdout",
          "text": [
            "50\n",
            "50\n",
            "No profit No loss\n"
          ]
        }
      ]
    },
    {
      "cell_type": "markdown",
      "source": [
        "Q11.Write a program to find the simple interest when the value of principle,rate of interest and time period is given.\n"
      ],
      "metadata": {
        "id": "7y01et2lme4a"
      }
    },
    {
      "cell_type": "code",
      "source": [
        "p=1000\n",
        "r=2\n",
        "t=2\n",
        "si=p*r*t/100\n",
        "print(si)"
      ],
      "metadata": {
        "colab": {
          "base_uri": "https://localhost:8080/"
        },
        "id": "JefkVvJemhR2",
        "outputId": "0fb72904-7f46-45a7-b37a-53393770f57f"
      },
      "execution_count": 27,
      "outputs": [
        {
          "output_type": "stream",
          "name": "stdout",
          "text": [
            "40.0\n"
          ]
        }
      ]
    },
    {
      "cell_type": "markdown",
      "source": [
        "Q12.Write a program to find the volume of the cylinder. Also find the cost when ,when the cost of 1litre milk is 40Rs.\n"
      ],
      "metadata": {
        "id": "jB6qR6bEmheE"
      }
    },
    {
      "cell_type": "code",
      "source": [
        "h=int(input())\n",
        "r=int(input())\n",
        "v=3.14*r**2*h\n",
        "print(v)\n",
        "#1 li=1000cubic cm\n",
        "liter=v/1000\n",
        "total_cost=40*liter\n",
        "print(total_cost)"
      ],
      "metadata": {
        "colab": {
          "base_uri": "https://localhost:8080/"
        },
        "id": "VT4xjWA5mluI",
        "outputId": "35f0e186-a8ab-4855-87d4-7e905e3d84a5"
      },
      "execution_count": 29,
      "outputs": [
        {
          "output_type": "stream",
          "name": "stdout",
          "text": [
            "45\n",
            "6\n",
            "5086.8\n",
            "203.472\n"
          ]
        }
      ]
    },
    {
      "cell_type": "markdown",
      "source": [
        "Q13.Write  a program that will tell whether the given number is divisible by 3 & 6."
      ],
      "metadata": {
        "id": "kLlo9tbZml5o"
      }
    },
    {
      "cell_type": "code",
      "source": [
        "a=int(input())\n",
        "if a%3==0 and a%6==0:\n",
        "  print('Is divisible by 6 and 3')\n",
        "else:\n",
        "  print('Not divisible by 3 and 6')"
      ],
      "metadata": {
        "colab": {
          "base_uri": "https://localhost:8080/"
        },
        "id": "Ci0FVD5-mpr2",
        "outputId": "b9ce9dfe-69fc-4f77-bf8c-c8d9bf93f46f"
      },
      "execution_count": 31,
      "outputs": [
        {
          "output_type": "stream",
          "name": "stdout",
          "text": [
            "3\n",
            "Not divisible by 3 and 6\n"
          ]
        }
      ]
    },
    {
      "cell_type": "markdown",
      "source": [
        "Q14.Angle between hour and minute hand\n",
        "Difficulty: BasicAccuracy: 15.91%Submissions: 56K+Points: 1\n",
        "Calculate the angle between the hour hand and minute hand.\n",
        "\n",
        "Note: There can be two angles between hands; we need to print a minimum of two. Also, we need to print the floor of the final result angle. For example, if the final angle is 10.61, we need to print 10.\n",
        "\n",
        "\n",
        "Example 1:\n",
        "\n",
        "Input:\n",
        "H = 9 , M = 0\n",
        "Output:\n",
        "90\n",
        "Explanation:\n",
        "The minimum angle between hour and minute\n",
        "hand when the time is 9 is 90 degress."
      ],
      "metadata": {
        "id": "Fb_8MAvcya0U"
      }
    },
    {
      "cell_type": "code",
      "source": [
        "def calculate_angle(hour, minute):\n",
        "    # Calculate the angle of the minute hand\n",
        "    minute_angle = minute * 6\n",
        "\n",
        "    # Calculate the angle of the hour hand\n",
        "    hour_angle = (hour % 12) * 30 + minute * 0.5\n",
        "\n",
        "    # Calculate the absolute difference between the two angles\n",
        "    angle = abs(hour_angle - minute_angle)\n",
        "\n",
        "    # Ensure the angle is the smaller of the two possible angles\n",
        "    smaller_angle = min(angle, 360 - angle)\n",
        "\n",
        "    return smaller_angle\n",
        "\n",
        "# Input the hour and minute\n",
        "hour = int(input(\"Enter the hour (1-12): \"))\n",
        "minute = int(input(\"Enter the minutes (0-59): \"))\n",
        "\n",
        "# Calculate and print the angle\n",
        "angle = calculate_angle(hour, minute)\n",
        "print(f\"The angle between the hour and minute hands is: {angle}°\")\n",
        "\n",
        "\n"
      ],
      "metadata": {
        "colab": {
          "base_uri": "https://localhost:8080/",
          "height": 367
        },
        "id": "SNic6GJ-yHs0",
        "outputId": "eea7b1df-40aa-4c57-b078-08a24f21eac5"
      },
      "execution_count": 37,
      "outputs": [
        {
          "name": "stdout",
          "output_type": "stream",
          "text": [
            "Enter the hour (1-12): 6\n",
            "Enter the minutes (0-59): 30\n"
          ]
        },
        {
          "output_type": "error",
          "ename": "TypeError",
          "evalue": "'int' object is not callable",
          "traceback": [
            "\u001b[0;31m---------------------------------------------------------------------------\u001b[0m",
            "\u001b[0;31mTypeError\u001b[0m                                 Traceback (most recent call last)",
            "\u001b[0;32m<ipython-input-37-87a0799bb660>\u001b[0m in \u001b[0;36m<cell line: 21>\u001b[0;34m()\u001b[0m\n\u001b[1;32m     19\u001b[0m \u001b[0;34m\u001b[0m\u001b[0m\n\u001b[1;32m     20\u001b[0m \u001b[0;31m# Calculate and print the angle\u001b[0m\u001b[0;34m\u001b[0m\u001b[0;34m\u001b[0m\u001b[0m\n\u001b[0;32m---> 21\u001b[0;31m \u001b[0mangle\u001b[0m \u001b[0;34m=\u001b[0m \u001b[0mcalculate_angle\u001b[0m\u001b[0;34m(\u001b[0m\u001b[0mhour\u001b[0m\u001b[0;34m,\u001b[0m \u001b[0mminute\u001b[0m\u001b[0;34m)\u001b[0m\u001b[0;34m\u001b[0m\u001b[0;34m\u001b[0m\u001b[0m\n\u001b[0m\u001b[1;32m     22\u001b[0m \u001b[0mprint\u001b[0m\u001b[0;34m(\u001b[0m\u001b[0;34mf\"The angle between the hour and minute hands is: {angle}°\"\u001b[0m\u001b[0;34m)\u001b[0m\u001b[0;34m\u001b[0m\u001b[0;34m\u001b[0m\u001b[0m\n\u001b[1;32m     23\u001b[0m \u001b[0;34m\u001b[0m\u001b[0m\n",
            "\u001b[0;32m<ipython-input-37-87a0799bb660>\u001b[0m in \u001b[0;36mcalculate_angle\u001b[0;34m(hour, minute)\u001b[0m\n\u001b[1;32m     10\u001b[0m \u001b[0;34m\u001b[0m\u001b[0m\n\u001b[1;32m     11\u001b[0m     \u001b[0;31m# Ensure the angle is the smaller of the two possible angles\u001b[0m\u001b[0;34m\u001b[0m\u001b[0;34m\u001b[0m\u001b[0m\n\u001b[0;32m---> 12\u001b[0;31m     \u001b[0msmaller_angle\u001b[0m \u001b[0;34m=\u001b[0m \u001b[0mmin\u001b[0m\u001b[0;34m(\u001b[0m\u001b[0mangle\u001b[0m\u001b[0;34m,\u001b[0m \u001b[0;36m360\u001b[0m \u001b[0;34m-\u001b[0m \u001b[0mangle\u001b[0m\u001b[0;34m)\u001b[0m\u001b[0;34m\u001b[0m\u001b[0;34m\u001b[0m\u001b[0m\n\u001b[0m\u001b[1;32m     13\u001b[0m \u001b[0;34m\u001b[0m\u001b[0m\n\u001b[1;32m     14\u001b[0m     \u001b[0;32mreturn\u001b[0m \u001b[0msmaller_angle\u001b[0m\u001b[0;34m\u001b[0m\u001b[0;34m\u001b[0m\u001b[0m\n",
            "\u001b[0;31mTypeError\u001b[0m: 'int' object is not callable"
          ]
        }
      ]
    },
    {
      "cell_type": "markdown",
      "source": [
        "Q15.Overlapping rectangles\n",
        "\n",
        "Given two rectangles, find if the given two rectangles overlap or not. A rectangle is denoted by providing the x and y coordinates of two points: the left top corner and the right bottom corner of the rectangle. Two rectangles sharing a side are considered overlapping. (L1 and R1 are the extreme points of the first rectangle and L2 and R2 are the extreme points of the second rectangle).\n",
        "\n",
        "Note: It may be assumed that the rectangles are parallel to the coordinate axis.\n",
        "\n",
        "Example 1:\n",
        "\n",
        "Input:\n",
        "L1=(0,10)\n",
        "R1=(10,0)\n",
        "L2=(5,5)\n",
        "R2=(15,0)\n",
        "Output:\n",
        "1\n",
        "Explanation:\n",
        "The rectangles overlap."
      ],
      "metadata": {
        "id": "JjiDwq8CyjVx"
      }
    },
    {
      "cell_type": "code",
      "source": [],
      "metadata": {
        "id": "n6kvAH-byyrr"
      },
      "execution_count": null,
      "outputs": []
    },
    {
      "cell_type": "markdown",
      "source": [
        "Q16.Write a program that will determine weather when the value of temperature and humidity is provided by the user.\n",
        "TEMPERATURE(C)      HUMIDITY(%)      WEATHER\n",
        "\n",
        "      >= 30                             >=90                Hot and Humid\n",
        "      >= 30                             < 90                 Hot\n",
        "      <30                                >= 90               Cool and Humid\n",
        "      <30                                 <90                 Cool\n"
      ],
      "metadata": {
        "id": "KtcR1o0Pyy5A"
      }
    },
    {
      "cell_type": "code",
      "source": [
        "temp=int(input())\n",
        "hum=int(input())\n",
        "if temp>=30 and hum>=90:\n",
        "  print('hot and humid')\n",
        "elif temp>=30 and hum<90:\n",
        "  print('Hot')\n",
        "elif temp<30 and hum>=90:\n",
        "  print('cold and humid')\n",
        "else:\n",
        "  print('cool')"
      ],
      "metadata": {
        "colab": {
          "base_uri": "https://localhost:8080/"
        },
        "id": "2GfnoJNOy47E",
        "outputId": "a7903522-57f4-4ef9-d138-155cc12faa62"
      },
      "execution_count": 1,
      "outputs": [
        {
          "output_type": "stream",
          "name": "stdout",
          "text": [
            "31\n",
            "91\n",
            "hot and humid\n"
          ]
        }
      ]
    },
    {
      "cell_type": "markdown",
      "source": [
        "Q17.Write a program that will take three digits from the user and add the square of each digit.\n"
      ],
      "metadata": {
        "id": "U8e8_eARy5Rq"
      }
    },
    {
      "cell_type": "code",
      "source": [
        "L=[]\n",
        "for i in range(0,3):\n",
        "  a=int(input())\n",
        "  L.append(a)\n",
        "sum=L[0]**2+L[1]**2+L[2]**2\n",
        "print(sum)"
      ],
      "metadata": {
        "colab": {
          "base_uri": "https://localhost:8080/"
        },
        "id": "BZ6U79-Ny9WG",
        "outputId": "2800b7df-0a23-41f4-da75-a83628a92b1a"
      },
      "execution_count": 2,
      "outputs": [
        {
          "output_type": "stream",
          "name": "stdout",
          "text": [
            "2\n",
            "3\n",
            "4\n",
            "29\n"
          ]
        }
      ]
    },
    {
      "cell_type": "markdown",
      "source": [
        "Q18.Write a program that will check whether the number is armstrong number or not.\n"
      ],
      "metadata": {
        "id": "S67oxoZjy9kP"
      }
    },
    {
      "cell_type": "code",
      "source": [
        "a=input()\n",
        "sum=int(a[0])**3+ int(a[1])**3 + int(a[2])**3\n",
        "if str(sum)==a:\n",
        "  print('Yes')\n",
        "else:\n",
        "  print('False')\n"
      ],
      "metadata": {
        "colab": {
          "base_uri": "https://localhost:8080/"
        },
        "id": "uWPA9uVKzA-l",
        "outputId": "3a6f5fe6-44b1-468f-c11f-b673bda8019d"
      },
      "execution_count": 6,
      "outputs": [
        {
          "output_type": "stream",
          "name": "stdout",
          "text": [
            "153\n",
            "Yes\n"
          ]
        }
      ]
    },
    {
      "cell_type": "markdown",
      "source": [
        "Q19.Write a program that will take user input of (4 digits number) and check whether the number is narcissist number or not"
      ],
      "metadata": {
        "id": "zZsMStugzBKs"
      }
    },
    {
      "cell_type": "code",
      "source": [
        "a=input()\n",
        "sum=int(a[0])**4+ int(a[1])**4 + int(a[2])**4+int(a[3])**4\n",
        "if str(sum)==a:\n",
        "  print('Yes')\n",
        "else:\n",
        "  print('False')"
      ],
      "metadata": {
        "colab": {
          "base_uri": "https://localhost:8080/"
        },
        "id": "7HDrTxwHzEpb",
        "outputId": "4317b953-f1a1-4996-f5de-f6258bcb272e"
      },
      "execution_count": 7,
      "outputs": [
        {
          "output_type": "stream",
          "name": "stdout",
          "text": [
            "9474\n",
            "Yes\n"
          ]
        }
      ]
    },
    {
      "cell_type": "markdown",
      "source": [
        "Q20.Write a program that will give you the in hand salary after deduction of HRA(10%),DA(5%),PF(3%), and tax(if salary is between 5-10 lakh–10%),(11-20lakh–20%),(20< _   – 30%)(0-1lakh print k)."
      ],
      "metadata": {
        "id": "asmEVkwjzE1Y"
      }
    },
    {
      "cell_type": "code",
      "source": [
        "a=int(input())\n",
        "#a=a-a*(10/100)-a*(5/100)-a*(3/100)\n",
        "b=a*(1-(10/100)-(5/100)-(3/100))\n",
        "print(b)\n",
        "if a>500000 and a<1000000:\n",
        "  b=b-b*(10/100)\n",
        "  print(b)\n",
        "elif a>1100000 and a<2000000:\n",
        "  b=b-b*(20/100)\n",
        "  print(b)\n",
        "elif a>20:\n",
        "  b=b-b*(3/100)\n",
        "  print(b)\n",
        "else:\n",
        "  print(b)\n"
      ],
      "metadata": {
        "colab": {
          "base_uri": "https://localhost:8080/"
        },
        "id": "kG6u4E1zzI4b",
        "outputId": "9b561d0a-b643-4e43-afc8-980789d2b299"
      },
      "execution_count": 4,
      "outputs": [
        {
          "output_type": "stream",
          "name": "stdout",
          "text": [
            "5000\n",
            "4100.0\n",
            "3977.0\n"
          ]
        }
      ]
    },
    {
      "cell_type": "markdown",
      "source": [
        "Q21.Write a menu driven program - 1.cm to ft  2.kl to miles  3.usd to inr  4.exit\n"
      ],
      "metadata": {
        "id": "5BnJFRiBzJFX"
      }
    },
    {
      "cell_type": "code",
      "source": [],
      "metadata": {
        "id": "bn75yLLFzNc9"
      },
      "execution_count": null,
      "outputs": []
    },
    {
      "cell_type": "markdown",
      "source": [
        "Q22.Write a program that will tell the number of dogs and chicken are there when the user will provide the value of total heads and legs.\n"
      ],
      "metadata": {
        "id": "iJOZVk8LzNy5"
      }
    },
    {
      "cell_type": "code",
      "source": [
        "def calculate_animals(heads, legs):\n",
        "    # heads = x + y (total number of chickens and dogs)\n",
        "    # legs = 2x + 4y (legs of chickens and dogs)\n",
        "\n",
        "    if legs % 2 != 0:\n",
        "        return \"Invalid input: Number of legs must be even.\"\n",
        "\n",
        "    # Solve the system of equations\n",
        "    chickens = (4 * heads - legs) // 2\n",
        "    dogs = heads - chickens\n",
        "\n",
        "    if chickens < 0 or dogs < 0:\n",
        "        return \"Invalid input: The number of animals doesn't make sense.\"\n",
        "\n",
        "    return chickens, dogs\n",
        "\n",
        "# Example usage\n",
        "total_heads = int(input(\"Enter total number of heads: \"))\n",
        "total_legs = int(input(\"Enter total number of legs: \"))\n",
        "\n",
        "result = calculate_animals(total_heads, total_legs)\n",
        "\n",
        "if isinstance(result, str):\n",
        "    print(result)  # Print error message\n",
        "else:\n",
        "    chickens, dogs = result\n",
        "    print(f\"Number of chickens: {chickens}\")\n",
        "    print(f\"Number of dogs: {dogs}\")\n"
      ],
      "metadata": {
        "colab": {
          "base_uri": "https://localhost:8080/"
        },
        "id": "KH5suhbZzRn1",
        "outputId": "2c06affc-e4f8-47b8-f121-76f04f0d9d4f"
      },
      "execution_count": 5,
      "outputs": [
        {
          "output_type": "stream",
          "name": "stdout",
          "text": [
            "Enter total number of heads: 2\n",
            "Enter total number of legs: 6\n",
            "Number of chickens: 1\n",
            "Number of dogs: 1\n"
          ]
        }
      ]
    },
    {
      "cell_type": "markdown",
      "source": [
        "Q23.Write a program that will swap numbers"
      ],
      "metadata": {
        "id": "BiM6VMOnzR1A"
      }
    },
    {
      "cell_type": "code",
      "source": [
        "a=int(input())\n",
        "b=int(input())\n",
        "c=b\n",
        "b=a\n",
        "a=c\n",
        "print(a,b)"
      ],
      "metadata": {
        "colab": {
          "base_uri": "https://localhost:8080/"
        },
        "id": "mMRw-5s_zXuI",
        "outputId": "e70d9fa8-8d0d-4013-d51c-c54017256937"
      },
      "execution_count": 6,
      "outputs": [
        {
          "output_type": "stream",
          "name": "stdout",
          "text": [
            "2\n",
            "3\n",
            "3 2\n"
          ]
        }
      ]
    },
    {
      "cell_type": "markdown",
      "source": [
        "Q24.Write a program to find the sum of first n numbers, where n will be provided by the user. Eg if the user provides n=10 the output should be 55.\n"
      ],
      "metadata": {
        "id": "pxJuPDuczX6i"
      }
    },
    {
      "cell_type": "code",
      "source": [
        "n=int(input())\n",
        "sum=n*(n+1)/2\n",
        "print(sum)"
      ],
      "metadata": {
        "colab": {
          "base_uri": "https://localhost:8080/"
        },
        "id": "rsVMpQc4zcGh",
        "outputId": "7f3be53e-62fd-429f-a1af-596983401107"
      },
      "execution_count": 8,
      "outputs": [
        {
          "output_type": "stream",
          "name": "stdout",
          "text": [
            "10\n",
            "55.0\n"
          ]
        }
      ]
    },
    {
      "cell_type": "markdown",
      "source": [
        "  Q25.Write a program that can multiply 2 numbers provided by the user without using the * operator\n"
      ],
      "metadata": {
        "id": "nZPeWP8CBD80"
      }
    },
    {
      "cell_type": "code",
      "source": [
        "a=int(input())\n",
        "b=int(input())\n",
        "#axb\n",
        "#2X5=2+2+2+2+2\n",
        "sum=0\n",
        "for i in range(1,b+1):\n",
        "  sum=sum+a\n",
        "print(sum)"
      ],
      "metadata": {
        "colab": {
          "base_uri": "https://localhost:8080/"
        },
        "id": "DXMIg4A2BJJe",
        "outputId": "241041fd-6450-437c-f41b-c2365547b26b"
      },
      "execution_count": 10,
      "outputs": [
        {
          "output_type": "stream",
          "name": "stdout",
          "text": [
            "7\n",
            "5\n",
            "35\n"
          ]
        }
      ]
    },
    {
      "cell_type": "markdown",
      "source": [
        "Q26.Write a program that can find the factorial of a given number provided by the user."
      ],
      "metadata": {
        "id": "StbilJAkCYYR"
      }
    },
    {
      "cell_type": "code",
      "source": [
        "a=int(input())\n",
        "fact=1\n",
        "if a==1 or a==0:\n",
        "  print(1)\n",
        "else:\n",
        "  for i in range(1,a+1):\n",
        "    fact=fact*i\n",
        "  print(fact)"
      ],
      "metadata": {
        "colab": {
          "base_uri": "https://localhost:8080/"
        },
        "id": "YKwKjtzbCXlA",
        "outputId": "07703aa2-2b8d-4c9b-e567-ec797d2a3e5a"
      },
      "execution_count": 15,
      "outputs": [
        {
          "output_type": "stream",
          "name": "stdout",
          "text": [
            "5\n",
            "120\n"
          ]
        }
      ]
    },
    {
      "cell_type": "markdown",
      "source": [
        "Q27.Write a program to print the first 25 odd numbers\n"
      ],
      "metadata": {
        "id": "5JJbgm5pDPyE"
      }
    },
    {
      "cell_type": "code",
      "source": [
        "n=25\n",
        "count=0\n",
        "for i in range(1,50):\n",
        "  if i%2==0:\n",
        "    continue\n",
        "  else:\n",
        "    print(i)\n",
        "    count=count+1\n",
        "print('total odd numbers are: ',count)\n"
      ],
      "metadata": {
        "colab": {
          "base_uri": "https://localhost:8080/"
        },
        "id": "y9xRvXj3DO0H",
        "outputId": "ce5b71d3-28d1-46f8-d957-3b7e6ff3f2c9"
      },
      "execution_count": 23,
      "outputs": [
        {
          "output_type": "stream",
          "name": "stdout",
          "text": [
            "1\n",
            "3\n",
            "5\n",
            "7\n",
            "9\n",
            "11\n",
            "13\n",
            "15\n",
            "17\n",
            "19\n",
            "21\n",
            "23\n",
            "25\n",
            "27\n",
            "29\n",
            "31\n",
            "33\n",
            "35\n",
            "37\n",
            "39\n",
            "41\n",
            "43\n",
            "45\n",
            "47\n",
            "49\n",
            "total odd numbers are:  25\n"
          ]
        }
      ]
    },
    {
      "cell_type": "markdown",
      "source": [
        "Q28.Write a program to print whether a given number is prime number or not\n"
      ],
      "metadata": {
        "id": "oPEMe9dbDvJm"
      }
    },
    {
      "cell_type": "code",
      "source": [
        "a = int(input(\"Enter a number: \"))\n",
        "if a < 2:\n",
        "    print('not a prime number')\n",
        "else:\n",
        "    is_prime = True\n",
        "    for i in range(2, int(a**0.5) + 1):\n",
        "        if a % i == 0:\n",
        "            is_prime = False\n",
        "            break\n",
        "    if is_prime:\n",
        "        print('is a prime number')\n",
        "    else:\n",
        "        print('not a prime number')\n",
        "\n"
      ],
      "metadata": {
        "colab": {
          "base_uri": "https://localhost:8080/"
        },
        "id": "sFCxaYvNDzh4",
        "outputId": "c125600c-fe2d-46d1-e460-549c26572f12"
      },
      "execution_count": 27,
      "outputs": [
        {
          "output_type": "stream",
          "name": "stdout",
          "text": [
            "Enter a number: 21\n",
            "not a prime number\n"
          ]
        }
      ]
    },
    {
      "cell_type": "markdown",
      "source": [
        "Q29.print all the armstrong numbers in the range of 100 to 1000\n"
      ],
      "metadata": {
        "id": "Ca4eANkJYqNt"
      }
    },
    {
      "cell_type": "code",
      "source": [
        "for num in range(100,1000):\n",
        "  digits=str(num)\n",
        "  sum_of_cube= sum(int(i)**3 for i in digits)\n",
        "  if sum_of_cube==num:\n",
        "    print(num)"
      ],
      "metadata": {
        "colab": {
          "base_uri": "https://localhost:8080/"
        },
        "id": "n0QdEI8VGOE7",
        "outputId": "5cb319fc-0a72-40cc-da2e-2da96d69d656"
      },
      "execution_count": 2,
      "outputs": [
        {
          "output_type": "stream",
          "name": "stdout",
          "text": [
            "153\n",
            "370\n",
            "371\n",
            "407\n"
          ]
        }
      ]
    },
    {
      "cell_type": "markdown",
      "source": [
        "Q30.The current population of a town is 10000. The population of the town is increasing at the rate of 10% per year. You have to write a program to find out the population at the end of each of the last 10 years. For eg current population is 10000 so the output should be like this:\n",
        "10th year - 10000\n",
        "9th year - 9000\n",
        "8th year - 8100 and so on\n"
      ],
      "metadata": {
        "id": "eUCV3uZeZm3c"
      }
    },
    {
      "cell_type": "code",
      "source": [
        "pop=10000\n",
        "print(pop)\n",
        "pop=pop-pop*(10/100)\n",
        "print(pop)\n",
        "pop=pop-pop*(10/100)\n",
        "print(pop)\n"
      ],
      "metadata": {
        "colab": {
          "base_uri": "https://localhost:8080/"
        },
        "id": "4paLng-nZiJm",
        "outputId": "8928e721-b46d-4f2e-db6c-a7d87b1068ba"
      },
      "execution_count": 5,
      "outputs": [
        {
          "output_type": "stream",
          "name": "stdout",
          "text": [
            "10000\n",
            "9000.0\n",
            "8100.0\n"
          ]
        }
      ]
    },
    {
      "cell_type": "code",
      "source": [
        "pop=10000\n",
        "print(pop)\n",
        "for i in range(9,0,-1):\n",
        "  pop=pop-pop*(10/100)\n",
        "  print(f\"{i}th year - {int(pop)}\")\n"
      ],
      "metadata": {
        "colab": {
          "base_uri": "https://localhost:8080/"
        },
        "id": "hJ7jJvABbTqU",
        "outputId": "62474eb4-3dff-4461-c833-d05f1a0a4c8f"
      },
      "execution_count": 9,
      "outputs": [
        {
          "output_type": "stream",
          "name": "stdout",
          "text": [
            "10000\n",
            "9th year - 9000\n",
            "8th year - 8100\n",
            "7th year - 7290\n",
            "6th year - 6561\n",
            "5th year - 5904\n",
            "4th year - 5314\n",
            "3th year - 4782\n",
            "2th year - 4304\n",
            "1th year - 3874\n"
          ]
        }
      ]
    },
    {
      "cell_type": "markdown",
      "source": [
        "Q31.Write a program to print all the unique combinations of 1,2,3 and 4\n"
      ],
      "metadata": {
        "id": "lCoaHFg5cBhN"
      }
    },
    {
      "cell_type": "code",
      "source": [
        "num=[1,2,3,4]\n",
        "#remaining_nums = nums[:i] + nums[i+1:]\n",
        "print(num[:0]+num[1:])"
      ],
      "metadata": {
        "colab": {
          "base_uri": "https://localhost:8080/"
        },
        "id": "3XUfuVcCcGV4",
        "outputId": "4ee04df2-a49c-468d-82d3-88881d50a98b"
      },
      "execution_count": 17,
      "outputs": [
        {
          "output_type": "stream",
          "name": "stdout",
          "text": [
            "[2, 3, 4]\n"
          ]
        }
      ]
    }
  ]
}